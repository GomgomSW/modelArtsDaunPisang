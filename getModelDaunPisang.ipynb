{
 "cells": [
  {
   "cell_type": "code",
   "execution_count": 1,
   "id": "d7eb91f1",
   "metadata": {},
   "outputs": [],
   "source": [
    "import requests"
   ]
  },
  {
   "cell_type": "code",
   "execution_count": 2,
   "id": "289263fc",
   "metadata": {},
   "outputs": [],
   "source": [
    "url = \"https://01516f373f434921a874bf502a986a58.apig.ap-southeast-3.huaweicloudapis.com/v1/infers/43ce3a2e-4413-4672-a482-f581d50e3f3c\"\n",
    "headers = {\"X-Apig-AppCode\" : \"85619715500e42d3890b5c47cba491b07378b01efe4449888b920a666dff0a31\"}\n",
    "dataFiles = {\"images\": (\"1615455264273.jpg\", open(\"1615455264273.jpg\",\"rb\"), \"image/jpg\", {})}"
   ]
  },
  {
   "cell_type": "code",
   "execution_count": 3,
   "id": "8842300a",
   "metadata": {},
   "outputs": [
    {
     "name": "stdout",
     "output_type": "stream",
     "text": [
      "{\"predicted_label\": \"pestalotiopsis\", \"scores\": [[\"pestalotiopsis\", \"0.976\"], [\"cordana\", \"0.767\"], [\"healthy\", \"0.067\"], [\"sigatoka\", \"0.030\"]]}\n",
      "200\n"
     ]
    }
   ],
   "source": [
    "response = requests.post(url, headers = headers, files=dataFiles)\n",
    "print(response.text)\n",
    "print(response.status_code)"
   ]
  },
  {
   "cell_type": "code",
   "execution_count": 4,
   "id": "997c191d",
   "metadata": {},
   "outputs": [],
   "source": [
    "jsonResult = response.json()\n",
    "result = jsonResult['predicted_label']"
   ]
  },
  {
   "cell_type": "code",
   "execution_count": 27,
   "id": "0cf38561",
   "metadata": {},
   "outputs": [
    {
     "name": "stdout",
     "output_type": "stream",
     "text": [
      "pestalotiopsis\n"
     ]
    }
   ],
   "source": [
    "print(result)"
   ]
  },
  {
   "cell_type": "code",
   "execution_count": 5,
   "id": "ec634e9b",
   "metadata": {},
   "outputs": [],
   "source": [
    "arScores = jsonResult['scores']"
   ]
  },
  {
   "cell_type": "code",
   "execution_count": 6,
   "id": "dda28463",
   "metadata": {},
   "outputs": [
    {
     "name": "stdout",
     "output_type": "stream",
     "text": [
      "[['pestalotiopsis', '0.976'], ['cordana', '0.767'], ['healthy', '0.067'], ['sigatoka', '0.030']]\n"
     ]
    }
   ],
   "source": [
    "print(arScores)"
   ]
  },
  {
   "cell_type": "code",
   "execution_count": 7,
   "id": "3fa4d137",
   "metadata": {},
   "outputs": [
    {
     "name": "stdout",
     "output_type": "stream",
     "text": [
      "Your Leafs Condition is: pestalotiopsis. The Accuracy for current situation is 0.98\n"
     ]
    }
   ],
   "source": [
    "predicted_score = 0\n",
    "for score in arScores:\n",
    "    # print value of score\n",
    "    if score[0] == result:\n",
    "        predicted_score = float(score[1])\n",
    "print(\"Your Leafs Condition is: %s. The Accuracy for current situation is %.2f\" %(result,predicted_score))"
   ]
  },
  {
   "cell_type": "code",
   "execution_count": null,
   "id": "2c6a86c0",
   "metadata": {},
   "outputs": [],
   "source": []
  },
  {
   "cell_type": "code",
   "execution_count": null,
   "id": "f6e6bc73",
   "metadata": {},
   "outputs": [],
   "source": []
  }
 ],
 "metadata": {
  "kernelspec": {
   "display_name": "Python 3",
   "language": "python",
   "name": "python3"
  },
  "language_info": {
   "codemirror_mode": {
    "name": "ipython",
    "version": 3
   },
   "file_extension": ".py",
   "mimetype": "text/x-python",
   "name": "python",
   "nbconvert_exporter": "python",
   "pygments_lexer": "ipython3",
   "version": "3.11.1 (tags/v3.11.1:a7a450f, Dec  6 2022, 19:58:39) [MSC v.1934 64 bit (AMD64)]"
  },
  "vscode": {
   "interpreter": {
    "hash": "307d18f76dd37e1ec3fc7f27e31666980f65f09eb70f694dea6855a705a198b0"
   }
  }
 },
 "nbformat": 4,
 "nbformat_minor": 5
}
